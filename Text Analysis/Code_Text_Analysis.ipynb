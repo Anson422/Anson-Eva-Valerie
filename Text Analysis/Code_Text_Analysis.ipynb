{
  "nbformat": 4,
  "nbformat_minor": 0,
  "metadata": {
    "colab": {
      "provenance": [],
      "authorship_tag": "ABX9TyPfKEwQpi1TwrtcOe2zPXOt",
      "include_colab_link": true
    },
    "kernelspec": {
      "name": "python3",
      "display_name": "Python 3"
    },
    "language_info": {
      "name": "python"
    }
  },
  "cells": [
    {
      "cell_type": "markdown",
      "metadata": {
        "id": "view-in-github",
        "colab_type": "text"
      },
      "source": [
        "<a href=\"https://colab.research.google.com/github/Anson422/Anson-Eva-Valerie/blob/main/Text%20Analysis/Code_Text_Analysis.ipynb\" target=\"_parent\"><img src=\"https://colab.research.google.com/assets/colab-badge.svg\" alt=\"Open In Colab\"/></a>"
      ]
    },
    {
      "cell_type": "code",
      "execution_count": 9,
      "metadata": {
        "id": "FG0zD2dJ21Ux",
        "colab": {
          "base_uri": "https://localhost:8080/"
        },
        "outputId": "e8604acb-c776-4695-f708-2b6395b2581d"
      },
      "outputs": [
        {
          "output_type": "stream",
          "name": "stdout",
          "text": [
            "fatal: destination path 'Anson-Eva-Valerie' already exists and is not an empty directory.\n",
            "Collecting PyPDF2\n",
            "  Downloading pypdf2-3.0.1-py3-none-any.whl.metadata (6.8 kB)\n",
            "Downloading pypdf2-3.0.1-py3-none-any.whl (232 kB)\n",
            "\u001b[2K   \u001b[90m━━━━━━━━━━━━━━━━━━━━━━━━━━━━━━━━━━━━━━━━\u001b[0m \u001b[32m232.6/232.6 kB\u001b[0m \u001b[31m5.3 MB/s\u001b[0m eta \u001b[36m0:00:00\u001b[0m\n",
            "\u001b[?25hInstalling collected packages: PyPDF2\n",
            "Successfully installed PyPDF2-3.0.1\n"
          ]
        }
      ],
      "source": [
        "!git clone https://github.com/Anson422/Anson-Eva-Valerie.git #clone the repository to the local machine\n",
        "!pip install PyPDF2"
      ]
    },
    {
      "cell_type": "code",
      "source": [
        "#install the necessary libraries\n",
        "import os\n",
        "import PyPDF2\n",
        "from collections import Counter\n",
        "import pandas as pd"
      ],
      "metadata": {
        "id": "kBU0gTmAek3T"
      },
      "execution_count": 11,
      "outputs": []
    },
    {
      "cell_type": "code",
      "source": [
        "# Define the folder containing the EU energy publications in 2024\n",
        "EU_Energy_publications_2024 = '/Text Analysis/EU publications about Energy in 2024'"
      ],
      "metadata": {
        "id": "V63FZ3uzfpdn"
      },
      "execution_count": 13,
      "outputs": []
    },
    {
      "cell_type": "code",
      "source": [
        "# List of keywords to analyze\n",
        "keywords = [\"gas supply\", \"LNG\", \"renewables\", \"pipeline alternatives\"]\n",
        "\n",
        "# Initialize a counter for keyword frequency\n",
        "keyword_counts = Counter()"
      ],
      "metadata": {
        "id": "_fEillulgN_S"
      },
      "execution_count": 14,
      "outputs": []
    }
  ]
}