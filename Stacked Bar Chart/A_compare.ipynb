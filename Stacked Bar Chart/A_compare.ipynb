{
  "nbformat": 4,
  "nbformat_minor": 0,
  "metadata": {
    "colab": {
      "provenance": [],
      "authorship_tag": "ABX9TyPn6rkkeBpjJhotiHrYhrEW",
      "include_colab_link": true
    },
    "kernelspec": {
      "name": "python3",
      "display_name": "Python 3"
    },
    "language_info": {
      "name": "python"
    }
  },
  "cells": [
    {
      "cell_type": "markdown",
      "metadata": {
        "id": "view-in-github",
        "colab_type": "text"
      },
      "source": [
        "<a href=\"https://colab.research.google.com/github/Anson422/Anson-Eva-Valerie/blob/main/Stacked%20Bar%20Chart/A_compare.ipynb\" target=\"_parent\"><img src=\"https://colab.research.google.com/assets/colab-badge.svg\" alt=\"Open In Colab\"/></a>"
      ]
    },
    {
      "cell_type": "code",
      "source": [
        "!git clone https://github.com/Anson422/Anson-Eva-Valerie.git #clone the repository to the local machine\n",
        "!git install pandas\n",
        "!pip install googletrans==4.0.0-rc1"
      ],
      "metadata": {
        "id": "q-x7acmHuRYb",
        "outputId": "ba311848-c348-4371-ffbd-d9767f78052f",
        "colab": {
          "base_uri": "https://localhost:8080/"
        }
      },
      "execution_count": null,
      "outputs": [
        {
          "output_type": "stream",
          "name": "stdout",
          "text": [
            "Cloning into 'Anson-Eva-Valerie'...\n",
            "remote: Enumerating objects: 5264, done.\u001b[K\n",
            "remote: Counting objects: 100% (175/175), done.\u001b[K\n",
            "remote: Compressing objects: 100% (139/139), done.\u001b[K\n"
          ]
        }
      ]
    },
    {
      "cell_type": "code",
      "execution_count": null,
      "metadata": {
        "id": "UorEZmrbzZ6-"
      },
      "outputs": [],
      "source": [
        "#This tells python to draw the graphs \"inline\" - in the notebook\n",
        "%matplotlib inline\n",
        "import matplotlib.pyplot as plt\n",
        "from scipy.stats import norm\n",
        "import statistics\n",
        "import seaborn as sns\n",
        "\n",
        "import pylab\n",
        "import pandas as pd\n",
        "import numpy as np"
      ]
    },
    {
      "cell_type": "code",
      "source": [
        "Austria = pd.read_excel(\"/content/Anson-Eva-Valerie/Stacked Bar Chart/data/Import-von-russischem-Gas-2024-12-23-19-00-38.xlsx\")\n",
        "Austria = Austria.rename(columns={'Importanteil Gas aus Russland in %': 'Import gas from Russia in %', 'Importanteil Gas aus anderen Ländern in %': 'Import gas from other countries in %','Monat':'Date'})\n",
        "Austria['Date'] = Austria['Date'].replace('Mär 2022', 'Mar 2022')\n",
        "Austria['Date'] = Austria['Date'].replace('Mai 2022', 'May 2022')\n",
        "Austria['Date'] = Austria['Date'].replace('Okt 2022', 'Oct 2022')\n",
        "Austria['Date'] = Austria['Date'].replace('Dez 2022', 'Dec 2022')\n",
        "Austria['Date'] = Austria['Date'].replace('Jän 2022', 'Jan 2022')\n",
        "Austria['Date'] = Austria['Date'].replace('Mär 2023', 'Mar 2023')\n",
        "Austria['Date'] = Austria['Date'].replace('Mai 2023', 'May 2023')\n",
        "Austria['Date'] = Austria['Date'].replace('Okt 2023', 'Oct 2023')\n",
        "Austria['Date'] = Austria['Date'].replace('Dez 2023', 'Dec 2023')\n",
        "Austria['Date'] = Austria['Date'].replace('Jän 2022', 'Jan 2022')\n",
        "Austria['Date'] = Austria['Date'].replace('Mär 2024', 'Mar 2024')\n",
        "Austria['Date'] = Austria['Date'].replace('Mai 2024', 'May 2024')\n",
        "Austria['Date'] = Austria['Date'].replace('Okt 2024', 'Oct 2024')\n",
        "Austria['Date'] = Austria['Date'].replace('Dez 2024', 'Dec 2024')\n",
        "Austria = Austria.loc[12:32]\n",
        "Austria = Austria.drop(columns=['Gesamtimportmenge im Vergleich zu Feb. 2022 in Punkte', 'Russische Importmenge im Vergleich zu Feb. 2022 in Punkte'])\n",
        "\n",
        "Austria"
      ],
      "metadata": {
        "id": "rGwnF8YPud_B"
      },
      "execution_count": null,
      "outputs": []
    },
    {
      "cell_type": "code",
      "source": [
        "# Draw bar chart\n",
        "plt.figure(figsize=(10,6))\n",
        "\n",
        "# dark color:RU\n",
        "bars1 = plt.bar(\n",
        "    Austria['Date'],\n",
        "    Austria['Import gas from Russia in %'],\n",
        "    color='#24345B',\n",
        "    label='Imports from Russia'\n",
        ")\n",
        "\n",
        "# light colr:others\n",
        "plt.bar(\n",
        "    Austria['Date'],\n",
        "    Austria['Import gas from other countries in %'],\n",
        "    bottom=Austria['Import gas from Russia in %'],\n",
        "    color='#70C1B3',\n",
        "    label='Imports from other sources'\n",
        ")\n",
        "for bar in bars1:\n",
        "    yval = bar.get_height()\n",
        "    plt.text(bar.get_x() + bar.get_width()/2, yval/2, round(yval, 1), va='center', ha='center', color='white')\n",
        "\n",
        "\n",
        "plt.title('Gas import dependency in Austria')\n",
        "plt.xlabel('Date')\n",
        "plt.ylabel('Percentage (%)')\n",
        "plt.xticks(rotation=45)\n",
        "plt.ylim(0, 100)   #max 100\n",
        "plt.legend()\n",
        "\n",
        "plt.tight_layout()\n",
        "plt.show()"
      ],
      "metadata": {
        "id": "PB1WBoDovC7U",
        "collapsed": true
      },
      "execution_count": null,
      "outputs": []
    },
    {
      "cell_type": "markdown",
      "source": [
        "Figure 2:Gas import dependency in Austria(Austria Gov,2024)"
      ],
      "metadata": {
        "id": "QHyh9shzKXnC"
      }
    }
  ]
}